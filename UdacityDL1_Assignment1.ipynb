{
 "cells": [
  {
   "cell_type": "code",
   "execution_count": 1,
   "metadata": {
    "colab": {},
    "colab_type": "code",
    "id": "gse_V-5rj_Ur"
   },
   "outputs": [],
   "source": [
    "# https://github.com/tensorflow/tensorflow/blob/master/tensorflow/examples/udacity/1_notmnist.ipynb"
   ]
  },
  {
   "cell_type": "markdown",
   "metadata": {
    "colab_type": "text",
    "id": "ulkAOZmTqr9-"
   },
   "source": [
    "Imports"
   ]
  },
  {
   "cell_type": "code",
   "execution_count": 2,
   "metadata": {
    "colab": {},
    "colab_type": "code",
    "id": "ni-ig47q_KCM"
   },
   "outputs": [],
   "source": [
    "# These are all the modules we'll be using later. Make sure you can import them\n",
    "# before proceeding further.\n",
    "from __future__ import print_function\n",
    "import imageio\n",
    "import matplotlib.pyplot as plt\n",
    "import matplotlib.image as mpimg\n",
    "import numpy as np\n",
    "import os\n",
    "import sys\n",
    "import tarfile\n",
    "from IPython.display import display, Image\n",
    "from sklearn.linear_model import LogisticRegression\n",
    "from six.moves.urllib.request import urlretrieve\n",
    "from six.moves import cPickle as pickle\n",
    "\n",
    "# Config the matplotlib backend as plotting inline in IPython\n",
    "%matplotlib inline"
   ]
  },
  {
   "cell_type": "markdown",
   "metadata": {
    "colab_type": "text",
    "id": "rE4UgymIquPa"
   },
   "source": [
    "Download the Data"
   ]
  },
  {
   "cell_type": "code",
   "execution_count": 3,
   "metadata": {
    "colab": {
     "base_uri": "https://localhost:8080/",
     "height": 52
    },
    "colab_type": "code",
    "executionInfo": {
     "elapsed": 425,
     "status": "ok",
     "timestamp": 1537260558420,
     "user": {
      "displayName": "Gilles Ramstein",
      "photoUrl": "//lh4.googleusercontent.com/-UGDv0xKL18Q/AAAAAAAAAAI/AAAAAAAAADI/98mbPZZTVxU/s50-c-k-no/photo.jpg",
      "userId": "106814233560843980776"
     },
     "user_tz": -120
    },
    "id": "ULAV27_o_Qhw",
    "outputId": "64cd5861-896f-490f-9338-cc5cd5268a8e"
   },
   "outputs": [
    {
     "name": "stdout",
     "output_type": "stream",
     "text": [
      "Attempting to download: notMNIST_large.tar.gz\n",
      "0%....5%....10%....15%....20%....25%....30%....35%....40%....45%....50%....55%....60%....65%....70%....75%....80%....85%....90%....95%....100%\n",
      "Download Complete!\n",
      "Found and verified .\\notMNIST_large.tar.gz\n",
      "Attempting to download: notMNIST_small.tar.gz\n",
      "0%....5%....10%....15%....20%....25%....30%....35%....40%....45%....50%....55%....60%....65%....70%....75%....80%....85%....90%....95%....100%\n",
      "Download Complete!\n",
      "Found and verified .\\notMNIST_small.tar.gz\n"
     ]
    }
   ],
   "source": [
    "url = 'https://commondatastorage.googleapis.com/books1000/'\n",
    "last_percent_reported = None\n",
    "data_root = '.' # Change me to store data elsewhere\n",
    "\n",
    "def download_progress_hook(count, blockSize, totalSize):\n",
    "  \"\"\"A hook to report the progress of a download. This is mostly intended for users with\n",
    "  slow internet connections. Reports every 5% change in download progress.\n",
    "  \"\"\"\n",
    "  global last_percent_reported\n",
    "  percent = int(count * blockSize * 100 / totalSize)\n",
    "\n",
    "  if last_percent_reported != percent:\n",
    "    if percent % 5 == 0:\n",
    "      sys.stdout.write(\"%s%%\" % percent)\n",
    "      sys.stdout.flush()\n",
    "    else:\n",
    "      sys.stdout.write(\".\")\n",
    "      sys.stdout.flush()\n",
    "      \n",
    "    last_percent_reported = percent\n",
    "        \n",
    "def maybe_download(filename, expected_bytes, force=False):\n",
    "  \"\"\"Download a file if not present, and make sure it's the right size.\"\"\"\n",
    "  dest_filename = os.path.join(data_root, filename)\n",
    "  if force or not os.path.exists(dest_filename):\n",
    "    print('Attempting to download:', filename) \n",
    "    filename, _ = urlretrieve(url + filename, dest_filename, reporthook=download_progress_hook)\n",
    "    print('\\nDownload Complete!')\n",
    "  statinfo = os.stat(dest_filename)\n",
    "  if statinfo.st_size == expected_bytes:\n",
    "    print('Found and verified', dest_filename)\n",
    "  else:\n",
    "    raise Exception(\n",
    "      'Failed to verify ' + dest_filename + '. Can you get to it with a browser?')\n",
    "  return dest_filename\n",
    "\n",
    "train_filename = maybe_download('notMNIST_large.tar.gz', 247336696)\n",
    "test_filename = maybe_download('notMNIST_small.tar.gz', 8458043)"
   ]
  },
  {
   "cell_type": "markdown",
   "metadata": {
    "colab_type": "text",
    "id": "TT3Ku9TTqzMS"
   },
   "source": [
    "Extract the Data containers"
   ]
  },
  {
   "cell_type": "code",
   "execution_count": 4,
   "metadata": {
    "colab": {
     "base_uri": "https://localhost:8080/",
     "height": 87
    },
    "colab_type": "code",
    "executionInfo": {
     "elapsed": 458,
     "status": "ok",
     "timestamp": 1537260559000,
     "user": {
      "displayName": "Gilles Ramstein",
      "photoUrl": "//lh4.googleusercontent.com/-UGDv0xKL18Q/AAAAAAAAAAI/AAAAAAAAADI/98mbPZZTVxU/s50-c-k-no/photo.jpg",
      "userId": "106814233560843980776"
     },
     "user_tz": -120
    },
    "id": "b13kfyjn_zzc",
    "outputId": "69cb5961-268e-42bd-a57b-4e07970b3c10"
   },
   "outputs": [
    {
     "name": "stdout",
     "output_type": "stream",
     "text": [
      "Extracting data for .\\notMNIST_large. This may take a while. Please wait.\n",
      "['.\\\\notMNIST_large\\\\A', '.\\\\notMNIST_large\\\\B', '.\\\\notMNIST_large\\\\C', '.\\\\notMNIST_large\\\\D', '.\\\\notMNIST_large\\\\E', '.\\\\notMNIST_large\\\\F', '.\\\\notMNIST_large\\\\G', '.\\\\notMNIST_large\\\\H', '.\\\\notMNIST_large\\\\I', '.\\\\notMNIST_large\\\\J']\n",
      "Extracting data for .\\notMNIST_small. This may take a while. Please wait.\n",
      "['.\\\\notMNIST_small\\\\A', '.\\\\notMNIST_small\\\\B', '.\\\\notMNIST_small\\\\C', '.\\\\notMNIST_small\\\\D', '.\\\\notMNIST_small\\\\E', '.\\\\notMNIST_small\\\\F', '.\\\\notMNIST_small\\\\G', '.\\\\notMNIST_small\\\\H', '.\\\\notMNIST_small\\\\I', '.\\\\notMNIST_small\\\\J']\n"
     ]
    }
   ],
   "source": [
    "num_classes = 10\n",
    "np.random.seed(133)\n",
    "\n",
    "def maybe_extract(filename, force=False):\n",
    "  root = os.path.splitext(os.path.splitext(filename)[0])[0]  # remove .tar.gz\n",
    "  if os.path.isdir(root) and not force:\n",
    "    # You may override by setting force=True.\n",
    "    print('%s already present - Skipping extraction of %s.' % (root, filename))\n",
    "  else:\n",
    "    print('Extracting data for %s. This may take a while. Please wait.' % root)\n",
    "    tar = tarfile.open(filename)\n",
    "    sys.stdout.flush()\n",
    "    tar.extractall(data_root)\n",
    "    tar.close()\n",
    "  data_folders = [\n",
    "    os.path.join(root, d) for d in sorted(os.listdir(root))\n",
    "    if os.path.isdir(os.path.join(root, d))]\n",
    "  if len(data_folders) != num_classes:\n",
    "    raise Exception(\n",
    "      'Expected %d folders, one per class. Found %d instead.' % (\n",
    "        num_classes, len(data_folders)))\n",
    "  print(data_folders)\n",
    "  return data_folders\n",
    "  \n",
    "train_folders = maybe_extract(train_filename)\n",
    "test_folders = maybe_extract(test_filename)"
   ]
  },
  {
   "cell_type": "markdown",
   "metadata": {
    "colab_type": "text",
    "id": "fNvMb8X8q4FM"
   },
   "source": [
    "Problem1: Look at the Data"
   ]
  },
  {
   "cell_type": "code",
   "execution_count": 5,
   "metadata": {
    "colab": {
     "base_uri": "https://localhost:8080/",
     "height": 262
    },
    "colab_type": "code",
    "executionInfo": {
     "elapsed": 2746,
     "status": "ok",
     "timestamp": 1537260561930,
     "user": {
      "displayName": "Gilles Ramstein",
      "photoUrl": "//lh4.googleusercontent.com/-UGDv0xKL18Q/AAAAAAAAAAI/AAAAAAAAADI/98mbPZZTVxU/s50-c-k-no/photo.jpg",
      "userId": "106814233560843980776"
     },
     "user_tz": -120
    },
    "id": "Us7og99y2m5-",
    "outputId": "e034f489-1b0d-44e5-eedf-f15ece1f6ee1"
   },
   "outputs": [
    {
     "name": "stdout",
     "output_type": "stream",
     "text": [
      "20\n"
     ]
    },
    {
     "data": {
      "image/png": "[encoded data removed]",
      "text/plain": [
       "<Figure size 1152x288 with 20 Axes>"
      ]
     },
     "metadata": {
      "needs_background": "light"
     },
     "output_type": "display_data"
    }
   ],
   "source": [
    "def print_selection(number: int) -> None:\n",
    "  main_dir = os.listdir()\n",
    "  #print(main_dir)\n",
    "  small = os.listdir('notMNIST_small')\n",
    "  large = os.listdir('notMNIST_large')\n",
    "  #print(small, large)\n",
    "  path = []\n",
    "  for sub1 in ['notMNIST_small', 'notMNIST_large']:\n",
    "    for sub2 in sorted(small):\n",
    "      path.append(sub1+'/'+sub2)\n",
    "  print(len(path))\n",
    "\n",
    "  f, ax = plt.subplots(figsize=(16, 4))\n",
    "  for i in range(len(path)):\n",
    "    ax = plt.subplot(2, len(path)/2, i+1)\n",
    "    #print(path[i] + '/' + os.listdir(path[i])[0])\n",
    "    img=mpimg.imread(path[i] + '/' + os.listdir(path[i])[number])\n",
    "    plt.imshow(img)\n",
    "  return None\n",
    "\n",
    "print_selection(0)"
   ]
  },
  {
   "cell_type": "markdown",
   "metadata": {
    "colab_type": "text",
    "id": "bupQErVOq-Qv"
   },
   "source": [
    "Transform into Datasets, safe as Pickles"
   ]
  },
  {
   "cell_type": "code",
   "execution_count": 6,
   "metadata": {
    "colab": {
     "base_uri": "https://localhost:8080/",
     "height": 1918
    },
    "colab_type": "code",
    "executionInfo": {
     "elapsed": 272824,
     "status": "ok",
     "timestamp": 1537260834780,
     "user": {
      "displayName": "Gilles Ramstein",
      "photoUrl": "//lh4.googleusercontent.com/-UGDv0xKL18Q/AAAAAAAAAAI/AAAAAAAAADI/98mbPZZTVxU/s50-c-k-no/photo.jpg",
      "userId": "106814233560843980776"
     },
     "user_tz": -120
    },
    "id": "SgHE-JIv_5pe",
    "outputId": "f8eead80-6d49-4cd1-dd4c-3b61ced55922"
   },
   "outputs": [
    {
     "name": "stdout",
     "output_type": "stream",
     "text": [
      "Pickling .\\notMNIST_large\\A.pickle.\n",
      ".\\notMNIST_large\\A\n",
      "Could not read: .\\notMNIST_large\\A\\RnJlaWdodERpc3BCb29rSXRhbGljLnR0Zg==.png : Could not find a format to read the specified file in mode 'i' - it's ok, skipping.\n",
      "Could not read: .\\notMNIST_large\\A\\SG90IE11c3RhcmQgQlROIFBvc3Rlci50dGY=.png : Could not find a format to read the specified file in mode 'i' - it's ok, skipping.\n",
      "Could not read: .\\notMNIST_large\\A\\Um9tYW5hIEJvbGQucGZi.png : Could not find a format to read the specified file in mode 'i' - it's ok, skipping.\n",
      "Full dataset tensor: (52909, 28, 28)\n",
      "Mean: -0.12825024\n",
      "Standard deviation: 0.44312063\n",
      "Pickling .\\notMNIST_large\\B.pickle.\n",
      ".\\notMNIST_large\\B\n",
      "Could not read: .\\notMNIST_large\\B\\TmlraXNFRi1TZW1pQm9sZEl0YWxpYy5vdGY=.png : Could not find a format to read the specified file in mode 'i' - it's ok, skipping.\n",
      "Full dataset tensor: (52911, 28, 28)\n",
      "Mean: -0.0075630303\n",
      "Standard deviation: 0.45449105\n",
      "Pickling .\\notMNIST_large\\C.pickle.\n",
      ".\\notMNIST_large\\C\n",
      "Full dataset tensor: (52912, 28, 28)\n",
      "Mean: -0.14225811\n",
      "Standard deviation: 0.43980625\n",
      "Pickling .\\notMNIST_large\\D.pickle.\n",
      ".\\notMNIST_large\\D\n",
      "Could not read: .\\notMNIST_large\\D\\VHJhbnNpdCBCb2xkLnR0Zg==.png : Could not find a format to read the specified file in mode 'i' - it's ok, skipping.\n",
      "Full dataset tensor: (52911, 28, 28)\n",
      "Mean: -0.057367794\n",
      "Standard deviation: 0.45564765\n",
      "Pickling .\\notMNIST_large\\E.pickle.\n",
      ".\\notMNIST_large\\E\n",
      "Full dataset tensor: (52912, 28, 28)\n",
      "Mean: -0.06989899\n",
      "Standard deviation: 0.45294195\n",
      "Pickling .\\notMNIST_large\\F.pickle.\n",
      ".\\notMNIST_large\\F\n",
      "Full dataset tensor: (52912, 28, 28)\n",
      "Mean: -0.1255833\n",
      "Standard deviation: 0.44708964\n",
      "Pickling .\\notMNIST_large\\G.pickle.\n",
      ".\\notMNIST_large\\G\n",
      "Full dataset tensor: (52912, 28, 28)\n",
      "Mean: -0.09458135\n",
      "Standard deviation: 0.44623983\n",
      "Pickling .\\notMNIST_large\\H.pickle.\n",
      ".\\notMNIST_large\\H\n",
      "Full dataset tensor: (52912, 28, 28)\n",
      "Mean: -0.06852206\n",
      "Standard deviation: 0.45423177\n",
      "Pickling .\\notMNIST_large\\I.pickle.\n",
      ".\\notMNIST_large\\I\n",
      "Full dataset tensor: (52912, 28, 28)\n",
      "Mean: 0.03078625\n",
      "Standard deviation: 0.46889907\n",
      "Pickling .\\notMNIST_large\\J.pickle.\n",
      ".\\notMNIST_large\\J\n",
      "Full dataset tensor: (52911, 28, 28)\n",
      "Mean: -0.15335836\n",
      "Standard deviation: 0.44365644\n",
      "Pickling .\\notMNIST_small\\A.pickle.\n",
      ".\\notMNIST_small\\A\n",
      "Could not read: .\\notMNIST_small\\A\\RGVtb2NyYXRpY2FCb2xkT2xkc3R5bGUgQm9sZC50dGY=.png : Could not find a format to read the specified file in mode 'i' - it's ok, skipping.\n",
      "Full dataset tensor: (1872, 28, 28)\n",
      "Mean: -0.13262637\n",
      "Standard deviation: 0.44512793\n",
      "Pickling .\\notMNIST_small\\B.pickle.\n",
      ".\\notMNIST_small\\B\n",
      "Full dataset tensor: (1873, 28, 28)\n",
      "Mean: 0.005356085\n",
      "Standard deviation: 0.45711532\n",
      "Pickling .\\notMNIST_small\\C.pickle.\n",
      ".\\notMNIST_small\\C\n",
      "Full dataset tensor: (1873, 28, 28)\n",
      "Mean: -0.1415206\n",
      "Standard deviation: 0.4426903\n",
      "Pickling .\\notMNIST_small\\D.pickle.\n",
      ".\\notMNIST_small\\D\n",
      "Full dataset tensor: (1873, 28, 28)\n",
      "Mean: -0.04921666\n",
      "Standard deviation: 0.4597589\n",
      "Pickling .\\notMNIST_small\\E.pickle.\n",
      ".\\notMNIST_small\\E\n",
      "Full dataset tensor: (1873, 28, 28)\n",
      "Mean: -0.05991479\n",
      "Standard deviation: 0.45734963\n",
      "Pickling .\\notMNIST_small\\F.pickle.\n",
      ".\\notMNIST_small\\F\n",
      "Could not read: .\\notMNIST_small\\F\\Q3Jvc3NvdmVyIEJvbGRPYmxpcXVlLnR0Zg==.png : Could not find a format to read the specified file in mode 'i' - it's ok, skipping.\n",
      "Full dataset tensor: (1872, 28, 28)\n",
      "Mean: -0.118185304\n",
      "Standard deviation: 0.45227867\n",
      "Pickling .\\notMNIST_small\\G.pickle.\n",
      ".\\notMNIST_small\\G\n",
      "Full dataset tensor: (1872, 28, 28)\n",
      "Mean: -0.09255028\n",
      "Standard deviation: 0.44900584\n",
      "Pickling .\\notMNIST_small\\H.pickle.\n",
      ".\\notMNIST_small\\H\n",
      "Full dataset tensor: (1872, 28, 28)\n",
      "Mean: -0.05868925\n",
      "Standard deviation: 0.45875895\n",
      "Pickling .\\notMNIST_small\\I.pickle.\n",
      ".\\notMNIST_small\\I\n",
      "Full dataset tensor: (1872, 28, 28)\n",
      "Mean: 0.05264507\n",
      "Standard deviation: 0.47189355\n",
      "Pickling .\\notMNIST_small\\J.pickle.\n",
      ".\\notMNIST_small\\J\n",
      "Full dataset tensor: (1872, 28, 28)\n",
      "Mean: -0.15168911\n",
      "Standard deviation: 0.44801357\n"
     ]
    }
   ],
   "source": [
    "image_size = 28  # Pixel width and height.\n",
    "pixel_depth = 255.0  # Number of levels per pixel.\n",
    "\n",
    "def load_letter(folder, min_num_images):\n",
    "  \"\"\"Load the data for a single letter label.\"\"\"\n",
    "  image_files = os.listdir(folder)\n",
    "  dataset = np.ndarray(shape=(len(image_files), image_size, image_size),\n",
    "                         dtype=np.float32)\n",
    "  print(folder)\n",
    "  num_images = 0\n",
    "  for image in image_files:\n",
    "    image_file = os.path.join(folder, image)\n",
    "    try:\n",
    "      image_data = (imageio.imread(image_file).astype(float) - \n",
    "                    pixel_depth / 2) / pixel_depth\n",
    "      if image_data.shape != (image_size, image_size):\n",
    "        raise Exception('Unexpected image shape: %s' % str(image_data.shape))\n",
    "      dataset[num_images, :, :] = image_data\n",
    "      num_images = num_images + 1\n",
    "    except (IOError, ValueError) as e:\n",
    "      print('Could not read:', image_file, ':', e, '- it\\'s ok, skipping.')\n",
    "    \n",
    "  dataset = dataset[0:num_images, :, :]\n",
    "  if num_images < min_num_images:\n",
    "    raise Exception('Many fewer images than expected: %d < %d' %\n",
    "                    (num_images, min_num_images))\n",
    "    \n",
    "  print('Full dataset tensor:', dataset.shape)\n",
    "  print('Mean:', np.mean(dataset))\n",
    "  print('Standard deviation:', np.std(dataset))\n",
    "  return dataset\n",
    "        \n",
    "def maybe_pickle(data_folders, min_num_images_per_class, force=False):\n",
    "  dataset_names = []\n",
    "  for folder in data_folders:\n",
    "    set_filename = folder + '.pickle'\n",
    "    dataset_names.append(set_filename)\n",
    "    if os.path.exists(set_filename) and not force:\n",
    "      # You may override by setting force=True.\n",
    "      print('%s already present - Skipping pickling.' % set_filename)\n",
    "    else:\n",
    "      print('Pickling %s.' % set_filename)\n",
    "      dataset = load_letter(folder, min_num_images_per_class)\n",
    "      try:\n",
    "        with open(set_filename, 'wb') as f:\n",
    "          pickle.dump(dataset, f, pickle.HIGHEST_PROTOCOL)\n",
    "      except Exception as e:\n",
    "        print('Unable to save data to', set_filename, ':', e)\n",
    "  \n",
    "  return dataset_names\n",
    "\n",
    "train_datasets = maybe_pickle(train_folders, 45000)\n",
    "test_datasets = maybe_pickle(test_folders, 1800)"
   ]
  },
  {
   "cell_type": "markdown",
   "metadata": {
    "colab_type": "text",
    "id": "G5_Br9bCrEQT"
   },
   "source": [
    "Problem2: Look at Data in Datasets"
   ]
  },
  {
   "cell_type": "code",
   "execution_count": 7,
   "metadata": {
    "colab": {
     "base_uri": "https://localhost:8080/",
     "height": 317
    },
    "colab_type": "code",
    "executionInfo": {
     "elapsed": 3500,
     "status": "ok",
     "timestamp": 1537260863479,
     "user": {
      "displayName": "Gilles Ramstein",
      "photoUrl": "//lh4.googleusercontent.com/-UGDv0xKL18Q/AAAAAAAAAAI/AAAAAAAAADI/98mbPZZTVxU/s50-c-k-no/photo.jpg",
      "userId": "106814233560843980776"
     },
     "user_tz": -120
    },
    "id": "YxKjUOyK_8PW",
    "outputId": "d92be1be-4210-43b0-8e5b-d242054c99b8"
   },
   "outputs": [
    {
     "name": "stdout",
     "output_type": "stream",
     "text": [
      "['.git', '.gitignore', '.ipynb_checkpoints', 'notMNIST_large', 'notMNIST_large.tar.gz', 'notMNIST_small', 'notMNIST_small.tar.gz', 'UdacityDL1_Assignment1.ipynb', 'UdacityDL1_Assignment2.ipynb', 'UdacityDL1_Assignment3.ipynb']\n",
      "['A', 'A.pickle', 'B', 'B.pickle', 'C', 'C.pickle', 'D', 'D.pickle', 'E', 'E.pickle', 'F', 'F.pickle', 'G', 'G.pickle', 'H', 'H.pickle', 'I', 'I.pickle', 'J', 'J.pickle'] ['A', 'A.pickle', 'B', 'B.pickle', 'C', 'C.pickle', 'D', 'D.pickle', 'E', 'E.pickle', 'F', 'F.pickle', 'G', 'G.pickle', 'H', 'H.pickle', 'I', 'I.pickle', 'J', 'J.pickle']\n",
      "notMNIST_small/A\n"
     ]
    },
    {
     "data": {
      "image/png": "[encoded data removed]",
      "text/plain": [
       "<Figure size 1152x288 with 20 Axes>"
      ]
     },
     "metadata": {
      "needs_background": "light"
     },
     "output_type": "display_data"
    }
   ],
   "source": [
    "main_dir = os.listdir()\n",
    "print(main_dir)\n",
    "small = os.listdir('notMNIST_small')\n",
    "large = os.listdir('notMNIST_large')\n",
    "print(sorted(small), sorted(large))\n",
    "path = []\n",
    "for sub1 in ['notMNIST_small', 'notMNIST_large']:\n",
    "  for sub2 in sorted(small):\n",
    "    path.append(sub1+'/'+sub2)\n",
    "print(path[0])\n",
    "\n",
    "f, ax = plt.subplots(figsize=(16, 4))\n",
    "for i in range(1, 40, 2):\n",
    "  ax = plt.subplot(2, 10, (i+1)/2)\n",
    "  with open(path[i], 'rb') as pickle_file:\n",
    "    content = pickle.load(pickle_file)\n",
    "  plt.imshow(content[0], cmap='gray')\n",
    "plt.show()"
   ]
  },
  {
   "cell_type": "markdown",
   "metadata": {
    "colab_type": "text",
    "id": "8ydXTJpkrLDr"
   },
   "source": [
    "Problem3: Check if Data is balanced"
   ]
  },
  {
   "cell_type": "code",
   "execution_count": 8,
   "metadata": {
    "colab": {
     "base_uri": "https://localhost:8080/",
     "height": 407
    },
    "colab_type": "code",
    "executionInfo": {
     "elapsed": 1550,
     "status": "ok",
     "timestamp": 1537260921216,
     "user": {
      "displayName": "Gilles Ramstein",
      "photoUrl": "//lh4.googleusercontent.com/-UGDv0xKL18Q/AAAAAAAAAAI/AAAAAAAAADI/98mbPZZTVxU/s50-c-k-no/photo.jpg",
      "userId": "106814233560843980776"
     },
     "user_tz": -120
    },
    "id": "s_Cs_D07ARhC",
    "outputId": "16841ed4-a553-4157-c8c4-6287742b9703"
   },
   "outputs": [
    {
     "name": "stdout",
     "output_type": "stream",
     "text": [
      "notMNIST_small/A.pickle 1872\n",
      "notMNIST_small/B.pickle 1873\n",
      "notMNIST_small/C.pickle 1873\n",
      "notMNIST_small/D.pickle 1873\n",
      "notMNIST_small/E.pickle 1873\n",
      "notMNIST_small/F.pickle 1872\n",
      "notMNIST_small/G.pickle 1872\n",
      "notMNIST_small/H.pickle 1872\n",
      "notMNIST_small/I.pickle 1872\n",
      "notMNIST_small/J.pickle 1872\n",
      "notMNIST_large/A.pickle 52909\n",
      "notMNIST_large/B.pickle 52911\n",
      "notMNIST_large/C.pickle 52912\n",
      "notMNIST_large/D.pickle 52911\n",
      "notMNIST_large/E.pickle 52912\n",
      "notMNIST_large/F.pickle 52912\n",
      "notMNIST_large/G.pickle 52912\n",
      "notMNIST_large/H.pickle 52912\n",
      "notMNIST_large/I.pickle 52912\n",
      "notMNIST_large/J.pickle 52911\n",
      "\n",
      "Looks Balanced!\n"
     ]
    }
   ],
   "source": [
    "main_dir = os.listdir()\n",
    "small = os.listdir('notMNIST_small')\n",
    "large = os.listdir('notMNIST_large')\n",
    "path = []\n",
    "for sub1 in ['notMNIST_small', 'notMNIST_large']:\n",
    "  for sub2 in sorted(small):\n",
    "    path.append(sub1+'/'+sub2)\n",
    "\n",
    "for i in range(1, 40, 2):\n",
    "  with open(path[i], 'rb') as pickle_file:\n",
    "    content = pickle.load(pickle_file)\n",
    "    print(path[i], content.shape[0])\n",
    "print('\\nLooks Balanced!')"
   ]
  },
  {
   "cell_type": "markdown",
   "metadata": {
    "colab_type": "text",
    "id": "rjY2zLxzrO3a"
   },
   "source": [
    "Train Test Val Split"
   ]
  },
  {
   "cell_type": "code",
   "execution_count": 9,
   "metadata": {
    "colab": {
     "base_uri": "https://localhost:8080/",
     "height": 70
    },
    "colab_type": "code",
    "executionInfo": {
     "elapsed": 2848,
     "status": "ok",
     "timestamp": 1537260930292,
     "user": {
      "displayName": "Gilles Ramstein",
      "photoUrl": "//lh4.googleusercontent.com/-UGDv0xKL18Q/AAAAAAAAAAI/AAAAAAAAADI/98mbPZZTVxU/s50-c-k-no/photo.jpg",
      "userId": "106814233560843980776"
     },
     "user_tz": -120
    },
    "id": "6RzClv0qAVZx",
    "outputId": "56f4bff7-9249-41d1-c411-5e68cb9c46a6"
   },
   "outputs": [
    {
     "name": "stdout",
     "output_type": "stream",
     "text": [
      "Training: (50000, 28, 28) (50000,)\n",
      "Validation: (15000, 28, 28) (15000,)\n",
      "Testing: (15000, 28, 28) (15000,)\n"
     ]
    }
   ],
   "source": [
    "def make_arrays(nb_rows, img_size):\n",
    "  if nb_rows:\n",
    "    dataset = np.ndarray((nb_rows, img_size, img_size), dtype=np.float32)\n",
    "    labels = np.ndarray(nb_rows, dtype=np.int32)\n",
    "  else:\n",
    "    dataset, labels = None, None\n",
    "  return dataset, labels\n",
    "\n",
    "def merge_datasets(pickle_files, train_size, valid_size=0):\n",
    "  num_classes = len(pickle_files)\n",
    "  valid_dataset, valid_labels = make_arrays(valid_size, image_size)\n",
    "  train_dataset, train_labels = make_arrays(train_size, image_size)\n",
    "  vsize_per_class = valid_size // num_classes\n",
    "  tsize_per_class = train_size // num_classes\n",
    "    \n",
    "  start_v, start_t = 0, 0\n",
    "  end_v, end_t = vsize_per_class, tsize_per_class\n",
    "  end_l = vsize_per_class+tsize_per_class\n",
    "  for label, pickle_file in enumerate(pickle_files):\n",
    "    try:\n",
    "      with open(pickle_file, 'rb') as f:\n",
    "        letter_set = pickle.load(f)\n",
    "        # let's shuffle the letters to have random validation and training set\n",
    "        np.random.shuffle(letter_set)\n",
    "        if valid_dataset is not None:\n",
    "          valid_letter = letter_set[:vsize_per_class, :, :]\n",
    "          valid_dataset[start_v:end_v, :, :] = valid_letter\n",
    "          valid_labels[start_v:end_v] = label\n",
    "          start_v += vsize_per_class\n",
    "          end_v += vsize_per_class\n",
    "                    \n",
    "        train_letter = letter_set[vsize_per_class:end_l, :, :]\n",
    "        train_dataset[start_t:end_t, :, :] = train_letter\n",
    "        train_labels[start_t:end_t] = label\n",
    "        start_t += tsize_per_class\n",
    "        end_t += tsize_per_class\n",
    "    except Exception as e:\n",
    "      print('Unable to process data from', pickle_file, ':', e)\n",
    "      raise\n",
    "    \n",
    "  return valid_dataset, valid_labels, train_dataset, train_labels\n",
    "            \n",
    "            \n",
    "train_size = 50000\n",
    "valid_size = 15000\n",
    "test_size = 15000\n",
    "\n",
    "valid_dataset, valid_labels, train_dataset, train_labels = \\\n",
    "    merge_datasets(train_datasets, train_size, valid_size)\n",
    "_, _, test_dataset, test_labels = \\\n",
    "    merge_datasets(test_datasets, test_size)\n",
    "\n",
    "print('Training:', train_dataset.shape, train_labels.shape)\n",
    "print('Validation:', valid_dataset.shape, valid_labels.shape)\n",
    "print('Testing:', test_dataset.shape, test_labels.shape)"
   ]
  },
  {
   "cell_type": "markdown",
   "metadata": {
    "colab_type": "text",
    "id": "HedKXysorTLb"
   },
   "source": [
    "Shuffling"
   ]
  },
  {
   "cell_type": "code",
   "execution_count": 10,
   "metadata": {
    "colab": {},
    "colab_type": "code",
    "id": "bffhaZflg_Kh"
   },
   "outputs": [],
   "source": [
    "def randomize(dataset, labels):\n",
    "  permutation = np.random.permutation(labels.shape[0])\n",
    "  shuffled_dataset = dataset[permutation,:,:]\n",
    "  shuffled_labels = labels[permutation]\n",
    "  return shuffled_dataset, shuffled_labels\n",
    "train_dataset, train_labels = randomize(train_dataset, train_labels)\n",
    "test_dataset, test_labels = randomize(test_dataset, test_labels)\n",
    "valid_dataset, valid_labels = randomize(valid_dataset, valid_labels)"
   ]
  },
  {
   "cell_type": "markdown",
   "metadata": {
    "colab_type": "text",
    "id": "nF8GWHi3rYC7"
   },
   "source": [
    "Problem4: Data and Label Matching after shuffling?"
   ]
  },
  {
   "cell_type": "code",
   "execution_count": 11,
   "metadata": {
    "colab": {
     "base_uri": "https://localhost:8080/",
     "height": 333
    },
    "colab_type": "code",
    "executionInfo": {
     "elapsed": 471,
     "status": "ok",
     "timestamp": 1537260937395,
     "user": {
      "displayName": "Gilles Ramstein",
      "photoUrl": "//lh4.googleusercontent.com/-UGDv0xKL18Q/AAAAAAAAAAI/AAAAAAAAADI/98mbPZZTVxU/s50-c-k-no/photo.jpg",
      "userId": "106814233560843980776"
     },
     "user_tz": -120
    },
    "id": "wvBmRmpdpPq8",
    "outputId": "43813a6b-e56c-48c8-f866-0460bd4a7ba5"
   },
   "outputs": [
    {
     "name": "stdout",
     "output_type": "stream",
     "text": [
      "Training: (50000, 28, 28) (50000,)\n",
      "Validation: (15000, 28, 28) (15000,)\n",
      "Testing: (15000, 28, 28) (15000,)\n"
     ]
    },
    {
     "data": {
      "image/png": "[encoded data removed]",
      "text/plain": [
       "<Figure size 432x288 with 1 Axes>"
      ]
     },
     "metadata": {
      "needs_background": "light"
     },
     "output_type": "display_data"
    }
   ],
   "source": [
    "print('Training:', train_dataset.shape, train_labels.shape)\n",
    "print('Validation:', valid_dataset.shape, valid_labels.shape)\n",
    "print('Testing:', test_dataset.shape, test_labels.shape)\n",
    "\n",
    "i = 11111\n",
    "mylabels = ['a', 'b', 'c', 'd', 'e', 'f', 'g', 'h', 'i', 'j']\n",
    "plt.imshow(train_dataset[i], cmap='gray')\n",
    "plt.title(mylabels[train_labels[i]])\n",
    "plt.show()"
   ]
  },
  {
   "cell_type": "markdown",
   "metadata": {
    "colab_type": "text",
    "id": "SWgXeFpcrjgG"
   },
   "source": [
    "Save Data for later use"
   ]
  },
  {
   "cell_type": "code",
   "execution_count": 12,
   "metadata": {
    "colab": {
     "base_uri": "https://localhost:8080/",
     "height": 34
    },
    "colab_type": "code",
    "executionInfo": {
     "elapsed": 986,
     "status": "ok",
     "timestamp": 1537260943553,
     "user": {
      "displayName": "Gilles Ramstein",
      "photoUrl": "//lh4.googleusercontent.com/-UGDv0xKL18Q/AAAAAAAAAAI/AAAAAAAAADI/98mbPZZTVxU/s50-c-k-no/photo.jpg",
      "userId": "106814233560843980776"
     },
     "user_tz": -120
    },
    "id": "w601EtHEpULX",
    "outputId": "0b0acb0c-081f-4774-9980-0074e6ec8470"
   },
   "outputs": [
    {
     "name": "stdout",
     "output_type": "stream",
     "text": [
      "Compressed pickle size: 251200502\n"
     ]
    }
   ],
   "source": [
    "pickle_file = os.path.join(data_root, 'notMNIST.pickle')\n",
    "\n",
    "try:\n",
    "  f = open(pickle_file, 'wb')\n",
    "  save = {\n",
    "    'train_dataset': train_dataset,\n",
    "    'train_labels': train_labels,\n",
    "    'valid_dataset': valid_dataset,\n",
    "    'valid_labels': valid_labels,\n",
    "    'test_dataset': test_dataset,\n",
    "    'test_labels': test_labels,\n",
    "    }\n",
    "  pickle.dump(save, f, pickle.HIGHEST_PROTOCOL)\n",
    "  f.close()\n",
    "except Exception as e:\n",
    "  print('Unable to save data to', pickle_file, ':', e)\n",
    "  raise\n",
    "\n",
    "statinfo = os.stat(pickle_file)\n",
    "print('Compressed pickle size:', statinfo.st_size)"
   ]
  },
  {
   "cell_type": "code",
   "execution_count": 13,
   "metadata": {
    "colab": {},
    "colab_type": "code",
    "id": "3K0O5TY5MIoO"
   },
   "outputs": [],
   "source": [
    "# flatten matrices\n",
    "train_dataset = train_dataset.reshape((len(train_dataset), 28*28))\n",
    "test_dataset = test_dataset.reshape((len(test_dataset), 28*28))\n",
    "valid_dataset = valid_dataset.reshape((len(valid_dataset), 28*28))"
   ]
  },
  {
   "cell_type": "markdown",
   "metadata": {
    "colab_type": "text",
    "id": "YUKBEXFBrtuM"
   },
   "source": [
    "Problem5: Measure Overlap in Train, Test and Val Sets <br/>\n",
    "\n",
    "(opt1: near duplicates?)<br/>\n",
    "(opt2: create cleaned version and compare)"
   ]
  },
  {
   "cell_type": "code",
   "execution_count": null,
   "metadata": {
    "colab": {
     "base_uri": "https://localhost:8080/",
     "height": 8292
    },
    "colab_type": "code",
    "executionInfo": {
     "elapsed": 12004,
     "status": "error",
     "timestamp": 1537266809007,
     "user": {
      "displayName": "Gilles Ramstein",
      "photoUrl": "//lh4.googleusercontent.com/-UGDv0xKL18Q/AAAAAAAAAAI/AAAAAAAAADI/98mbPZZTVxU/s50-c-k-no/photo.jpg",
      "userId": "106814233560843980776"
     },
     "user_tz": -120
    },
    "id": "x_v0uoaFrs61",
    "outputId": "94004474-6f6c-46a9-a3ff-caf6becc306d"
   },
   "outputs": [
    {
     "name": "stderr",
     "output_type": "stream",
     "text": [
      " 79%|████████████████████████████▍       | 11854/15000 [02:47<00:47, 65.95it/s]"
     ]
    }
   ],
   "source": [
    "#from tqdm import tqdm_notebook as tqdm # not supported in colabs\n",
    "from tqdm import tqdm\n",
    "\n",
    "## VERY slow loop!! ~20mins on colab\n",
    "overlap_test = np.zeros(len(train_dataset))\n",
    "overlap_valid = np.zeros(len(train_dataset))\n",
    "\n",
    "with tqdm(total=len(test_dataset)) as pbar:\n",
    "  for i,item in enumerate(train_dataset):\n",
    "    if item in test_dataset:\n",
    "      overlap_test[i] = 1\n",
    "    else:\n",
    "      pass\n",
    "    pbar.update()\n",
    "    \n",
    "with tqdm(total=len(test_dataset)) as pbar:\n",
    "  for i,item in enumerate(valid_dataset):\n",
    "    if matrix in valid_dataset:\n",
    "      overlap_valid[i] = 1\n",
    "    else:\n",
    "      pass\n",
    "    pbar.update()\n",
    "\n",
    "\n",
    "#dict_test = {}\n",
    "#dict_valid = {}"
   ]
  },
  {
   "cell_type": "code",
   "execution_count": null,
   "metadata": {
    "colab": {
     "base_uri": "https://localhost:8080/",
     "height": 34
    },
    "colab_type": "code",
    "executionInfo": {
     "elapsed": 342,
     "status": "ok",
     "timestamp": 1537266496679,
     "user": {
      "displayName": "Gilles Ramstein",
      "photoUrl": "//lh4.googleusercontent.com/-UGDv0xKL18Q/AAAAAAAAAAI/AAAAAAAAADI/98mbPZZTVxU/s50-c-k-no/photo.jpg",
      "userId": "106814233560843980776"
     },
     "user_tz": -120
    },
    "id": "c2NKg4oLKQ7f",
    "outputId": "190661ec-587c-40ef-bbd0-0789e479abf3"
   },
   "outputs": [],
   "source": [
    "np.sum(overlap_test), np.sum(overlap_valid)\n",
    "overlap_test[:10]"
   ]
  },
  {
   "cell_type": "markdown",
   "metadata": {
    "colab_type": "text",
    "id": "_QPdsBgQ22vK"
   },
   "source": [
    "Problem 6: \n",
    "\n",
    "Let's get an idea of what an off-the-shelf classifier can give you on this data. It's always good to check that there is something to learn, and that it's a problem that is not so trivial that a canned solution solves it.\n",
    "\n",
    "Train a simple model on this data using 50, 100, 1000 and 5000 training samples. Hint: you can use the LogisticRegression model from sklearn.linear_model.\n",
    "\n",
    "Optional question: train an off-the-shelf model on all the data!"
   ]
  },
  {
   "cell_type": "code",
   "execution_count": null,
   "metadata": {
    "colab": {},
    "colab_type": "code",
    "id": "TrGGUj8T20Fs"
   },
   "outputs": [],
   "source": [
    "from sklearn.linear_model import LogisticRegression as LR"
   ]
  },
  {
   "cell_type": "code",
   "execution_count": null,
   "metadata": {
    "colab": {
     "base_uri": "https://localhost:8080/",
     "height": 34
    },
    "colab_type": "code",
    "executionInfo": {
     "elapsed": 535,
     "status": "ok",
     "timestamp": 1537265889881,
     "user": {
      "displayName": "Gilles Ramstein",
      "photoUrl": "//lh4.googleusercontent.com/-UGDv0xKL18Q/AAAAAAAAAAI/AAAAAAAAADI/98mbPZZTVxU/s50-c-k-no/photo.jpg",
      "userId": "106814233560843980776"
     },
     "user_tz": -120
    },
    "id": "wkVT5d3vECc1",
    "outputId": "cfbe5add-efa4-4943-d07a-c505821f5ed1"
   },
   "outputs": [],
   "source": [
    "LR1 = LR()\n",
    "#y_pred = LR1.fit(train_dataset[:50], train_labels[:50]).predict(test_dataset[:50])\n",
    "scores = LR1.fit(train_dataset[:50], train_labels[:50]).score(test_dataset[:50], test_labels[:50])\n",
    "print(scores)"
   ]
  },
  {
   "cell_type": "code",
   "execution_count": null,
   "metadata": {
    "colab": {
     "base_uri": "https://localhost:8080/",
     "height": 34
    },
    "colab_type": "code",
    "executionInfo": {
     "elapsed": 629,
     "status": "ok",
     "timestamp": 1537265891390,
     "user": {
      "displayName": "Gilles Ramstein",
      "photoUrl": "//lh4.googleusercontent.com/-UGDv0xKL18Q/AAAAAAAAAAI/AAAAAAAAADI/98mbPZZTVxU/s50-c-k-no/photo.jpg",
      "userId": "106814233560843980776"
     },
     "user_tz": -120
    },
    "id": "p65KVxzMFR8h",
    "outputId": "2d169836-6e83-4d4f-9acd-1d23c88568b5"
   },
   "outputs": [],
   "source": [
    "LR2 = LR()\n",
    "#y_pred = LR2.fit(train_dataset[:100], train_labels[:100]).predict(test_dataset[:100])\n",
    "scores = LR2.fit(train_dataset[:100], train_labels[:100]).score(test_dataset[:100], test_labels[:100])\n",
    "print(scores)"
   ]
  },
  {
   "cell_type": "code",
   "execution_count": null,
   "metadata": {
    "colab": {
     "base_uri": "https://localhost:8080/",
     "height": 34
    },
    "colab_type": "code",
    "executionInfo": {
     "elapsed": 2446,
     "status": "ok",
     "timestamp": 1537265894252,
     "user": {
      "displayName": "Gilles Ramstein",
      "photoUrl": "//lh4.googleusercontent.com/-UGDv0xKL18Q/AAAAAAAAAAI/AAAAAAAAADI/98mbPZZTVxU/s50-c-k-no/photo.jpg",
      "userId": "106814233560843980776"
     },
     "user_tz": -120
    },
    "id": "wYTqD4EVFSLz",
    "outputId": "af4e621f-f2b3-4e8a-c59e-4b709b6750ea"
   },
   "outputs": [],
   "source": [
    "LR3 = LR()\n",
    "#y_pred = LR3.fit(train_dataset[:1000], train_labels[:1000]).predict(test_dataset[:1000])\n",
    "scores = LR3.fit(train_dataset[:1000], train_labels[:1000]).score(test_dataset[:1000], test_labels[:1000])\n",
    "print(scores)"
   ]
  },
  {
   "cell_type": "code",
   "execution_count": null,
   "metadata": {
    "colab": {
     "base_uri": "https://localhost:8080/",
     "height": 34
    },
    "colab_type": "code",
    "executionInfo": {
     "elapsed": 29589,
     "status": "ok",
     "timestamp": 1537265923874,
     "user": {
      "displayName": "Gilles Ramstein",
      "photoUrl": "//lh4.googleusercontent.com/-UGDv0xKL18Q/AAAAAAAAAAI/AAAAAAAAADI/98mbPZZTVxU/s50-c-k-no/photo.jpg",
      "userId": "106814233560843980776"
     },
     "user_tz": -120
    },
    "id": "EN-nq_oIFSao",
    "outputId": "bdb22e31-f298-4c99-dc3d-4447e2aedf2a"
   },
   "outputs": [],
   "source": [
    "LR4 = LR()\n",
    "#y_pred = LR4.fit(train_dataset[:5000], train_labels[:5000]).predict(test_dataset[:5000])\n",
    "scores = LR4.fit(train_dataset[:5000], train_labels[:5000]).score(test_dataset[:5000], test_labels[:5000])\n",
    "print(scores)"
   ]
  },
  {
   "cell_type": "code",
   "execution_count": null,
   "metadata": {
    "colab": {
     "base_uri": "https://localhost:8080/",
     "height": 34
    },
    "colab_type": "code",
    "executionInfo": {
     "elapsed": 514195,
     "status": "ok",
     "timestamp": 1537266438109,
     "user": {
      "displayName": "Gilles Ramstein",
      "photoUrl": "//lh4.googleusercontent.com/-UGDv0xKL18Q/AAAAAAAAAAI/AAAAAAAAADI/98mbPZZTVxU/s50-c-k-no/photo.jpg",
      "userId": "106814233560843980776"
     },
     "user_tz": -120
    },
    "id": "QwoZtkvAFpVp",
    "outputId": "180f81c4-28dd-4899-87bc-71c2fb0ee1a4"
   },
   "outputs": [],
   "source": [
    "LR5 = LR()\n",
    "#y_pred = LR5.fit(train_dataset, train_labels).predict(test_dataset)\n",
    "scores = LR5.fit(train_dataset, train_labels).score(test_dataset, test_labels)\n",
    "print(scores)"
   ]
  },
  {
   "cell_type": "code",
   "execution_count": null,
   "metadata": {},
   "outputs": [],
   "source": []
  }
 ],
 "metadata": {
  "accelerator": "GPU",
  "colab": {
   "collapsed_sections": [],
   "name": "Assignment1",
   "provenance": [],
   "version": "0.3.2"
  },
  "kernelspec": {
   "display_name": "Python 3",
   "language": "python",
   "name": "python3"
  },
  "language_info": {
   "codemirror_mode": {
    "name": "ipython",
    "version": 3
   },
   "file_extension": ".py",
   "mimetype": "text/x-python",
   "name": "python",
   "nbconvert_exporter": "python",
   "pygments_lexer": "ipython3",
   "version": "3.6.6"
  }
 },
 "nbformat": 4,
 "nbformat_minor": 2
}
